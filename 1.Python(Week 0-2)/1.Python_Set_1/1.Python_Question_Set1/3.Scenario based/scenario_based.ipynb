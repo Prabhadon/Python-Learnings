{
 "cells": [
  {
   "cell_type": "code",
   "execution_count": 2,
   "id": "10135ed8-e03d-4139-a9bd-43426c40f783",
   "metadata": {},
   "outputs": [
    {
     "name": "stdin",
     "output_type": "stream",
     "text": [
      "Enter your age:  32\n"
     ]
    },
    {
     "name": "stdout",
     "output_type": "stream",
     "text": [
      "You are eligible to vote.\n"
     ]
    }
   ],
   "source": [
    "age = int(input(\"Enter your age: \"))\n",
    "if age >= 18:\n",
    "    print(\"You are eligible to vote.\")\n",
    "else:\n",
    "    print(\"You are not eligible to vote.\")"
   ]
  },
  {
   "cell_type": "code",
   "execution_count": 3,
   "id": "6d71f4da-1bc4-4482-8b8c-ddb368a29e31",
   "metadata": {},
   "outputs": [],
   "source": [
    "numbers = [12, 45, 7, 89, 23, 67]"
   ]
  },
  {
   "cell_type": "code",
   "execution_count": 4,
   "id": "00a59e42-c0bd-420b-b305-3301fd1ba141",
   "metadata": {},
   "outputs": [
    {
     "name": "stdout",
     "output_type": "stream",
     "text": [
      "The largest number is: 89\n"
     ]
    }
   ],
   "source": [
    "numbers.sort()\n",
    "print(\"The largest number is:\", numbers[-1])"
   ]
  },
  {
   "cell_type": "code",
   "execution_count": 7,
   "id": "c98210f4-73f5-4605-b40b-b4e48d16d42e",
   "metadata": {},
   "outputs": [
    {
     "name": "stdin",
     "output_type": "stream",
     "text": [
      "Enter your salary:  78000\n"
     ]
    },
    {
     "name": "stdout",
     "output_type": "stream",
     "text": [
      "Your bonus amount is: 7800.0\n"
     ]
    }
   ],
   "source": [
    "salary = float(input(\"Enter your salary: \"))\n",
    "\n",
    "if salary > 50000:\n",
    "    bonus = salary * 0.10\n",
    "else:\n",
    "    bonus = 0\n",
    "\n",
    "print(\"Your bonus amount is:\", bonus)"
   ]
  },
  {
   "cell_type": "code",
   "execution_count": 10,
   "id": "226405b1-995b-4398-bcfa-4ab798360e20",
   "metadata": {},
   "outputs": [
    {
     "name": "stdin",
     "output_type": "stream",
     "text": [
      "Enter a number:  78\n"
     ]
    },
    {
     "name": "stdout",
     "output_type": "stream",
     "text": [
      "78 is Even number\n"
     ]
    }
   ],
   "source": [
    "num = int(input(\"Enter a number: \"))\n",
    "if (num % 2) == 0:\n",
    "    print(\"{0} is Even number\".format(num))\n",
    "else:\n",
    "    print(\"{0} is Odd number\".format(num))"
   ]
  },
  {
   "cell_type": "code",
   "execution_count": 11,
   "id": "0de0ae93-5db0-4ea7-bf00-c59a308c8af8",
   "metadata": {},
   "outputs": [
    {
     "name": "stdin",
     "output_type": "stream",
     "text": [
      "Enter a word or sentence:  PRABHAKARAN\n"
     ]
    },
    {
     "name": "stdout",
     "output_type": "stream",
     "text": [
      "Reversed text: NARAKAHBARP\n"
     ]
    }
   ],
   "source": [
    "text = input(\"Enter a word or sentence: \")\n",
    "\n",
    "# Reverse using slicing\n",
    "reversed_text = text[::-1]\n",
    "\n",
    "print(\"Reversed text:\", reversed_text)"
   ]
  },
  {
   "cell_type": "code",
   "execution_count": 12,
   "id": "43524953-54ca-4768-ae4b-f29b161c035b",
   "metadata": {},
   "outputs": [
    {
     "name": "stdin",
     "output_type": "stream",
     "text": [
      "Enter your mark:  55\n"
     ]
    },
    {
     "name": "stdout",
     "output_type": "stream",
     "text": [
      "You have Passed.\n"
     ]
    }
   ],
   "source": [
    "score = int(input(\"Enter your mark: \"))\n",
    "\n",
    "if score >= 40:\n",
    "    print(\"You have Passed.\")\n",
    "else:\n",
    "    print(\"You have Failed.\")"
   ]
  },
  {
   "cell_type": "code",
   "execution_count": 14,
   "id": "df474719-0542-4efe-aca7-c360f7aee090",
   "metadata": {},
   "outputs": [
    {
     "name": "stdin",
     "output_type": "stream",
     "text": [
      "Enter your total order amount:  5800\n"
     ]
    },
    {
     "name": "stdout",
     "output_type": "stream",
     "text": [
      "Discount amount is: 1160.0\n",
      "Final amount to be paid: 4640.0\n"
     ]
    }
   ],
   "source": [
    "order_amount = float(input(\"Enter your total order amount: \"))\n",
    "\n",
    "if order_amount > 100:\n",
    "    discount = order_amount * 0.20\n",
    "else:\n",
    "    discount = 0\n",
    "\n",
    "final_amount = order_amount - discount\n",
    "\n",
    "print(\"Discount amount is:\", discount)\n",
    "print(\"Final amount to be paid:\", final_amount)"
   ]
  },
  {
   "cell_type": "code",
   "execution_count": 15,
   "id": "9d315e5d-9b81-4a57-bb23-e49746a2d0d3",
   "metadata": {},
   "outputs": [
    {
     "name": "stdin",
     "output_type": "stream",
     "text": [
      "Enter your current balance:  6000\n",
      "Enter withdrawal amount:  300\n"
     ]
    },
    {
     "name": "stdout",
     "output_type": "stream",
     "text": [
      "Withdrawal successful!\n",
      "Remaining balance: 5700\n"
     ]
    }
   ],
   "source": [
    "balance = int(input(\"Enter your current balance: \"))\n",
    "withdraw = int(input(\"Enter withdrawal amount: \"))\n",
    "\n",
    "if withdraw <= balance:\n",
    "    balance = balance-withdraw\n",
    "    print(\"Withdrawal successful!\")\n",
    "    print(\"Current balance:\", balance)\n",
    "else:\n",
    "    print(\"Insufficient balance. Transaction denied.\")"
   ]
  },
  {
   "cell_type": "code",
   "execution_count": 16,
   "id": "273b7ff5-918a-4db8-97e6-252d394e1afd",
   "metadata": {},
   "outputs": [
    {
     "name": "stdin",
     "output_type": "stream",
     "text": [
      "Enter a year:  2026\n"
     ]
    },
    {
     "name": "stdout",
     "output_type": "stream",
     "text": [
      "2026 is Not a Leap Year\n"
     ]
    }
   ],
   "source": [
    "year = int(input(\"Enter a year: \"))\n",
    "\n",
    "if (year % 4 == 0):\n",
    "    print(year, \"is a Leap Year\")\n",
    "else:\n",
    "    print(year, \"is Not a Leap Year\")"
   ]
  },
  {
   "cell_type": "code",
   "execution_count": 21,
   "id": "a72634fc-924a-4655-917c-fbd7fdd367bc",
   "metadata": {},
   "outputs": [
    {
     "name": "stdout",
     "output_type": "stream",
     "text": [
      "Even number: 12\n",
      "Even number: 24\n",
      "Even number: 18\n",
      "Even number: 40\n"
     ]
    }
   ],
   "source": [
    "numbers = [12, 7, 9, 24, 18, 33, 40]\n",
    "for num in numbers:\n",
    "    if num % 2 == 0:\n",
    "        print(\"Even number:\", num)"
   ]
  },
  {
   "cell_type": "code",
   "execution_count": null,
   "id": "74547600-7bbc-469c-bbe3-b047dc75b17d",
   "metadata": {},
   "outputs": [],
   "source": []
  }
 ],
 "metadata": {
  "kernelspec": {
   "display_name": "Python [conda env:base] *",
   "language": "python",
   "name": "conda-base-py"
  },
  "language_info": {
   "codemirror_mode": {
    "name": "ipython",
    "version": 3
   },
   "file_extension": ".py",
   "mimetype": "text/x-python",
   "name": "python",
   "nbconvert_exporter": "python",
   "pygments_lexer": "ipython3",
   "version": "3.13.5"
  }
 },
 "nbformat": 4,
 "nbformat_minor": 5
}
