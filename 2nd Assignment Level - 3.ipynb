{
 "cells": [
  {
   "cell_type": "code",
   "execution_count": 1,
   "id": "deafc59d-7b99-4653-a38f-9fd0fea59d3a",
   "metadata": {},
   "outputs": [
    {
     "name": "stdin",
     "output_type": "stream",
     "text": [
      "value:  10\n"
     ]
    },
    {
     "name": "stdout",
     "output_type": "stream",
     "text": [
      "Corret\n"
     ]
    }
   ],
   "source": [
    "i = int(input(\"value: \"))\n",
    "if (i == 10):\n",
    " print(\"Corret\")\n",
    "else:\n",
    " print(\"wrong\")"
   ]
  },
  {
   "cell_type": "code",
   "execution_count": 2,
   "id": "0da7c0bb-03b5-44d6-bdab-55d2b5cd2efc",
   "metadata": {},
   "outputs": [
    {
     "name": "stdin",
     "output_type": "stream",
     "text": [
      "Enter the password:  HOPE@123\n"
     ]
    },
    {
     "name": "stdout",
     "output_type": "stream",
     "text": [
      "Your password is correct\n"
     ]
    }
   ],
   "source": [
    "password = input(\"Enter the password: \")\n",
    "if(password == \"HOPE@123\" ):\n",
    " print(\"Your password is correct\")\n",
    "else:\n",
    " print(\"Your password is wrong, check your password\")"
   ]
  },
  {
   "cell_type": "code",
   "execution_count": 2,
   "id": "f7020a63-e7eb-47dd-aa15-ec5f8f8a632a",
   "metadata": {},
   "outputs": [
    {
     "name": "stdin",
     "output_type": "stream",
     "text": [
      "age:  32\n"
     ]
    },
    {
     "name": "stdout",
     "output_type": "stream",
     "text": [
      "Adult\n"
     ]
    }
   ],
   "source": [
    "num = int(input(\"age: \"))\n",
    "if(num <= 18):\n",
    "     print(\"Children\")\n",
    "elif(num <= 35):\n",
    "     print(\"Adult\")\n",
    "elif(num <= 60):\n",
    "     print(\"Citizen\")\n",
    "else:\n",
    "     print(\"senior citizen\")"
   ]
  },
  {
   "cell_type": "code",
   "execution_count": 3,
   "id": "7520bab5-054d-469a-b471-9ae53f2de0ea",
   "metadata": {},
   "outputs": [
    {
     "name": "stdin",
     "output_type": "stream",
     "text": [
      "Enter any number: 5\n"
     ]
    },
    {
     "name": "stdout",
     "output_type": "stream",
     "text": [
      "Number is positive\n"
     ]
    }
   ],
   "source": [
    "n = int(input(\"Enter any number:\"))\n",
    "if n>0:\n",
    " print(\"Number is positive\")\n",
    "elif n<0:\n",
    " print(\"Number is negative\")\n",
    "else:\n",
    " print(\"Zero\")"
   ]
  },
  {
   "cell_type": "code",
   "execution_count": 4,
   "id": "c5bd8cd5-5bb9-4849-8e23-a9bc8ba5befa",
   "metadata": {},
   "outputs": [
    {
     "name": "stdin",
     "output_type": "stream",
     "text": [
      "Enter a number to check: 8\n"
     ]
    },
    {
     "name": "stdout",
     "output_type": "stream",
     "text": [
      "Number is not divisible by 5\n"
     ]
    }
   ],
   "source": [
    "n = int(input(\"Enter a number to check:\"))\n",
    "if n%5==0:\n",
    " print(\"Number is divisible by 5\")\n",
    "else:\n",
    " print(\"Number is not divisible by 5\")"
   ]
  },
  {
   "cell_type": "code",
   "execution_count": null,
   "id": "2b9909d3-6d90-41ef-aaa2-36c3ba6e9a30",
   "metadata": {},
   "outputs": [],
   "source": []
  }
 ],
 "metadata": {
  "kernelspec": {
   "display_name": "Python [conda env:base] *",
   "language": "python",
   "name": "conda-base-py"
  },
  "language_info": {
   "codemirror_mode": {
    "name": "ipython",
    "version": 3
   },
   "file_extension": ".py",
   "mimetype": "text/x-python",
   "name": "python",
   "nbconvert_exporter": "python",
   "pygments_lexer": "ipython3",
   "version": "3.13.5"
  }
 },
 "nbformat": 4,
 "nbformat_minor": 5
}
