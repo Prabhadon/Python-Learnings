{
 "cells": [
  {
   "cell_type": "code",
   "execution_count": 1,
   "id": "08b61ea7-031b-4daf-b11b-8735292df32c",
   "metadata": {},
   "outputs": [
    {
     "name": "stdin",
     "output_type": "stream",
     "text": [
      "Enter the transaction amount:  500\n"
     ]
    },
    {
     "name": "stdout",
     "output_type": "stream",
     "text": [
      "The transaction amount is Positive.\n"
     ]
    }
   ],
   "source": [
    "amount = float(input(\"Enter the transaction amount: \"))\n",
    "\n",
    "if amount > 0:\n",
    "    print(\"The transaction amount is Positive.\")\n",
    "elif amount < 0:\n",
    "    print(\"The transaction amount is Negative.\")\n",
    "else:\n",
    "    print(\"The transaction amount is Zero.\")"
   ]
  },
  {
   "cell_type": "code",
   "execution_count": 2,
   "id": "9e98a144-9515-4cc6-933e-a6e6a0a148c6",
   "metadata": {},
   "outputs": [
    {
     "name": "stdin",
     "output_type": "stream",
     "text": [
      "Enter the passcode:  1050\n"
     ]
    },
    {
     "name": "stdout",
     "output_type": "stream",
     "text": [
      "Sum of digits: 6\n"
     ]
    }
   ],
   "source": [
    "num = int(input(\"Enter the passcode: \"))\n",
    "sum_digits = 0\n",
    "temp = num\n",
    "\n",
    "while temp > 0:\n",
    "    digit = temp % 10\n",
    "    sum_digits += digit\n",
    "    temp = temp // 10\n",
    "\n",
    "print(\"Sum of digits:\", sum_digits)"
   ]
  },
  {
   "cell_type": "code",
   "execution_count": 5,
   "id": "ba4d8ebb-db52-43b0-8559-5975f7dadd44",
   "metadata": {},
   "outputs": [
    {
     "name": "stdin",
     "output_type": "stream",
     "text": [
      "Enter the transaction ID:  jh46j5nktjhe5t\n"
     ]
    },
    {
     "name": "stdout",
     "output_type": "stream",
     "text": [
      "Reversed transaction ID: t5ehjtkn5j64hj\n"
     ]
    }
   ],
   "source": [
    "num = input(\"Enter the transaction ID: \")\n",
    "reversed_num = \"\"\n",
    "for digit in num:\n",
    "    reversed_num = digit + reversed_num\n",
    "\n",
    "print(\"Reversed transaction ID:\", reversed_num)"
   ]
  },
  {
   "cell_type": "code",
   "execution_count": 7,
   "id": "c1571b89-39d1-4132-91c4-2295fc6e6bd7",
   "metadata": {},
   "outputs": [
    {
     "name": "stdin",
     "output_type": "stream",
     "text": [
      "Enter the user ID:  6565\n"
     ]
    },
    {
     "name": "stdout",
     "output_type": "stream",
     "text": [
      "Not Prime\n"
     ]
    }
   ],
   "source": [
    "num = int(input(\"Enter the user ID: \"))\n",
    "if num < 2:\n",
    "    print(\"Not Prime\")\n",
    "else:\n",
    "    is_prime = True\n",
    "    i = 2\n",
    "\n",
    "    while i <= num // 2:\n",
    "        if num % i == 0:\n",
    "            is_prime = False\n",
    "            break\n",
    "        i += 1\n",
    "    if is_prime:\n",
    "        print(\"Prime\")\n",
    "    else:\n",
    "        print(\"Not Prime\")"
   ]
  },
  {
   "cell_type": "code",
   "execution_count": 10,
   "id": "e6b5af2d-139a-498f-80e1-b51c3cbbe2a5",
   "metadata": {},
   "outputs": [
    {
     "name": "stdin",
     "output_type": "stream",
     "text": [
      "Enter a number:  57\n"
     ]
    },
    {
     "name": "stdout",
     "output_type": "stream",
     "text": [
      "Factorial of 57 is 40526919504877216755680601905432322134980384796226602145184481280000000000000\n"
     ]
    }
   ],
   "source": [
    "def factorial(n):\n",
    "    if n == 0 or n == 1:\n",
    "        return 1\n",
    "    else:\n",
    "        return n * factorial(n - 1)\n",
    "\n",
    "num = int(input(\"Enter a number: \"))\n",
    "\n",
    "print(\"Factorial of\", num, \"is\", factorial(num))"
   ]
  },
  {
   "cell_type": "code",
   "execution_count": 13,
   "id": "8b93f9c5-274d-421a-bfcc-eb646a7175e6",
   "metadata": {},
   "outputs": [
    {
     "name": "stdin",
     "output_type": "stream",
     "text": [
      "Enter a number:  153\n"
     ]
    },
    {
     "name": "stdout",
     "output_type": "stream",
     "text": [
      "153 is an Armstrong number\n"
     ]
    }
   ],
   "source": [
    "num = int(input(\"Enter a number: \"))\n",
    "strVal = str(num)\n",
    "l = len(strVal)\n",
    "sum = 0\n",
    "for digit in strVal:\n",
    "    sum = sum + (int(digit) ** l)\n",
    "    \n",
    "if num == sum:\n",
    "    print(num, \"is an Armstrong number\")\n",
    "else:\n",
    "    print(num, \"is not an Armstrong number\")"
   ]
  },
  {
   "cell_type": "code",
   "execution_count": 16,
   "id": "d739631b-4fbd-406a-b1f1-c0159efd3abe",
   "metadata": {},
   "outputs": [
    {
     "name": "stdin",
     "output_type": "stream",
     "text": [
      "Enter your password:  prabha9887\n"
     ]
    },
    {
     "name": "stdout",
     "output_type": "stream",
     "text": [
      "Strengthened password: 7rabha988p\n"
     ]
    }
   ],
   "source": [
    "password = input(\"Enter your password: \")\n",
    "if len(password) < 2:\n",
    "    strengthened = password\n",
    "else:\n",
    "    strengthened = password[-1] + password[1:-1] + password[0]\n",
    "\n",
    "print(\"Strengthened password:\", strengthened)\n"
   ]
  },
  {
   "cell_type": "code",
   "execution_count": 27,
   "id": "f9b6c1c6-9e42-49d6-b5e5-ea3089647ef4",
   "metadata": {},
   "outputs": [
    {
     "name": "stdin",
     "output_type": "stream",
     "text": [
      "Enter a decimal number:  2\n"
     ]
    },
    {
     "name": "stdout",
     "output_type": "stream",
     "text": [
      "Binary : 10\n"
     ]
    }
   ],
   "source": [
    "num = int(input(\"Enter a decimal number: \"))\n",
    "binary = \"\"\n",
    "\n",
    "if num == 0:\n",
    "    binary = \"0\"\n",
    "else:\n",
    "    while num > 0:\n",
    "        remainder = num % 2\n",
    "        binary = str(remainder) + binary \n",
    "        num = num // 2\n",
    "\n",
    "print(\"Binary :\", binary)"
   ]
  },
  {
   "cell_type": "code",
   "execution_count": 28,
   "id": "c0998be5-2afb-4a31-a77b-b4b05b9d9050",
   "metadata": {},
   "outputs": [
    {
     "name": "stdin",
     "output_type": "stream",
     "text": [
      "Enter a sentence:  hi how are you\n"
     ]
    },
    {
     "name": "stdout",
     "output_type": "stream",
     "text": [
      "The longest word is: how\n"
     ]
    }
   ],
   "source": [
    "sentence = input(\"Enter a sentence: \")\n",
    "words = sentence.split()\n",
    "longest_word = \"\"\n",
    "for word in words:\n",
    "    if len(word) > len(longest_word):\n",
    "        longest_word = word\n",
    "\n",
    "\n",
    "print(\"The longest word is:\", longest_word)\n"
   ]
  },
  {
   "cell_type": "code",
   "execution_count": 29,
   "id": "53a509f0-fdd2-4420-8fea-0d7b21e553c4",
   "metadata": {},
   "outputs": [
    {
     "name": "stdin",
     "output_type": "stream",
     "text": [
      "Enter first string:  hi\n",
      "Enter second string:  hello\n"
     ]
    },
    {
     "name": "stdout",
     "output_type": "stream",
     "text": [
      "The strings are not anagrams.\n"
     ]
    }
   ],
   "source": [
    "str1 = input(\"Enter first string: \")\n",
    "str2 = input(\"Enter second string: \")\n",
    "\n",
    "str1 = str1.replace(\" \", \"\").lower()\n",
    "str2 = str2.replace(\" \", \"\").lower()\n",
    "\n",
    "if sorted(str1) == sorted(str2):\n",
    "    print(\"The strings are anagrams.\")\n",
    "else:\n",
    "    print(\"The strings are not anagrams.\")"
   ]
  },
  {
   "cell_type": "code",
   "execution_count": null,
   "id": "fa0904cd-bb09-4eef-a697-df07b2fa0d09",
   "metadata": {},
   "outputs": [],
   "source": []
  }
 ],
 "metadata": {
  "kernelspec": {
   "display_name": "Python [conda env:base] *",
   "language": "python",
   "name": "conda-base-py"
  },
  "language_info": {
   "codemirror_mode": {
    "name": "ipython",
    "version": 3
   },
   "file_extension": ".py",
   "mimetype": "text/x-python",
   "name": "python",
   "nbconvert_exporter": "python",
   "pygments_lexer": "ipython3",
   "version": "3.13.5"
  }
 },
 "nbformat": 4,
 "nbformat_minor": 5
}
