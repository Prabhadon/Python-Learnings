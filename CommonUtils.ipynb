{
 "cells": [
  {
   "cell_type": "code",
   "execution_count": 3,
   "id": "d7c09f88-d5bf-45e3-bfad-1265045f6f0f",
   "metadata": {},
   "outputs": [],
   "source": [
    "class CommonUtils():\n",
    "    def Subfields():\n",
    "        print(\"Sub-fields in AI are:\")\n",
    "        List=['Machine Learning', 'Neural Networks', 'Vision', 'Robotics', 'Speech Processing', 'Natural Language Processing']\n",
    "        for temp in List:\n",
    "            print(temp)\n",
    "\n",
    "    def OddEven():\n",
    "        num = int(input(\"Enter a number: \"))\n",
    "        if (num % 2) == 0:\n",
    "            print(\"{0} is Even number\".format(num))\n",
    "        else:\n",
    "            print(\"{0} is Odd number\".format(num))\n",
    "\n",
    "    def Elegible():\n",
    "        gender=input(\"Your Gender:\")\n",
    "        age=int(input(\"Your Age:\"))\n",
    "        if(gender=='Male'):\n",
    "            if(age >=21):\n",
    "                print('ELIGIBLE')\n",
    "            else:\n",
    "                print('NOT ELIGIBLE')\n",
    "        elif(gender=='Female'):\n",
    "            if(age >18):\n",
    "                print('ELIGIBLE')\n",
    "            else:\n",
    "                print('NOT ELIGIBLE')\n",
    "        else:\n",
    "            print('INVALID INPUT DATA')\n",
    "\n",
    "\n",
    "    def percentage():\n",
    "        m1=int(input(\"Subject1= \"))\n",
    "        m2=int(input(\"Subject2= \"))\n",
    "        m3=int(input(\"Subject3= \"))\n",
    "        m4=int(input(\"Subject4= \"))\n",
    "        m5=int(input(\"Subject5= \"))\n",
    "        Total = m1+m2+m3+m4+m5\n",
    "        print(\"Total : \",m1+m2+m3+m4+m5)\n",
    "        Percent = (Total / 500) * 100\n",
    "        print(\"Percentage : \",Percent)\n",
    "\n",
    "\n",
    "    def triangle():\n",
    "        Height=int(input(\"Height:\"))\n",
    "        breadth=int(input(\"Breadth:\"))\n",
    "        print(\"Area formula: (Height*Breadth)/2\")\n",
    "        print(\"Area of Triangle: \",(Height*breadth)/2)\n",
    "        Height1=int(input(\"Height1:\"))\n",
    "        Height2=int(input(\"Height2:\"))\n",
    "        breadth=int(input(\"Breadth:\"))\n",
    "        print(\"Perimeter formula: Height1+Height2+Breadth\")\n",
    "        print(\"Perimeter of Triangle: \",Height1+Height2+breadth)\n",
    "\n",
    "\n",
    "    "
   ]
  },
  {
   "cell_type": "code",
   "execution_count": null,
   "id": "ce63178f-91df-48c9-a024-3d651a34fc16",
   "metadata": {},
   "outputs": [],
   "source": []
  }
 ],
 "metadata": {
  "kernelspec": {
   "display_name": "Python [conda env:base] *",
   "language": "python",
   "name": "conda-base-py"
  },
  "language_info": {
   "codemirror_mode": {
    "name": "ipython",
    "version": 3
   },
   "file_extension": ".py",
   "mimetype": "text/x-python",
   "name": "python",
   "nbconvert_exporter": "python",
   "pygments_lexer": "ipython3",
   "version": "3.13.5"
  }
 },
 "nbformat": 4,
 "nbformat_minor": 5
}
