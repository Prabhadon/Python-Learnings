{
 "cells": [
  {
   "cell_type": "code",
   "execution_count": 1,
   "id": "d40bfe2e-84b4-42b6-b422-e7231f227825",
   "metadata": {},
   "outputs": [
    {
     "name": "stdout",
     "output_type": "stream",
     "text": [
      "0\n",
      "1\n",
      "2\n",
      "3\n",
      "4\n",
      "5\n",
      "6\n",
      "7\n",
      "8\n",
      "9\n",
      "10\n",
      "11\n",
      "12\n",
      "13\n",
      "14\n",
      "15\n",
      "16\n",
      "17\n",
      "18\n",
      "19\n"
     ]
    }
   ],
   "source": [
    "range(20)\n",
    "for temp in range(20):\n",
    " print(temp)"
   ]
  },
  {
   "cell_type": "code",
   "execution_count": 2,
   "id": "a999ac44-e27a-4fd0-8d1c-7eea1bb91a59",
   "metadata": {},
   "outputs": [
    {
     "name": "stdout",
     "output_type": "stream",
     "text": [
      "10 11 12 13 14 15 16 17 18 19 "
     ]
    }
   ],
   "source": [
    "for i in range(10, 20):\n",
    " print(i, end=\" \")"
   ]
  },
  {
   "cell_type": "code",
   "execution_count": 3,
   "id": "db5c0864-4cd3-4c78-84f6-04a80bf4ea7a",
   "metadata": {},
   "outputs": [
    {
     "name": "stdout",
     "output_type": "stream",
     "text": [
      "[10, 20, 14, 55, 43, 87, 76]\n",
      "Number of item in the List2: \n",
      "7\n"
     ]
    }
   ],
   "source": [
    "List2 = [10, 20, 14 ,55 ,43 ,87 ,76 ]\n",
    "print(List2)\n",
    "print(\"Number of item in the List2: \")\n",
    "print(len(List2))"
   ]
  },
  {
   "cell_type": "code",
   "execution_count": 4,
   "id": "3ee1b0b4-8b17-4fc0-ae7b-4d9222ea2fbc",
   "metadata": {},
   "outputs": [
    {
     "name": "stdout",
     "output_type": "stream",
     "text": [
      "Artificial Intelligence\n",
      "A\n",
      "r\n",
      "t\n",
      "i\n",
      "f\n",
      "i\n",
      "c\n",
      "i\n",
      "a\n",
      "l\n",
      " \n",
      "I\n",
      "n\n",
      "t\n",
      "e\n",
      "l\n",
      "l\n",
      "i\n",
      "g\n",
      "e\n",
      "n\n",
      "c\n",
      "e\n"
     ]
    }
   ],
   "source": [
    "print(\"Artificial Intelligence\")\n",
    "s = \"Artificial Intelligence\"\n",
    "for i in s :\n",
    " print(i)"
   ]
  },
  {
   "cell_type": "code",
   "execution_count": 5,
   "id": "060b24c6-467e-42da-bfbc-9f538a817d16",
   "metadata": {},
   "outputs": [
    {
     "name": "stdout",
     "output_type": "stream",
     "text": [
      "-Your Name-\n",
      "-Your Age-\n",
      "-Your Profession-\n"
     ]
    }
   ],
   "source": [
    "list = [\"-Your Name-\", \"-Your Age-\", \"-Your Profession-\"]\n",
    "for i in list:\n",
    " print(i)"
   ]
  },
  {
   "cell_type": "code",
   "execution_count": 6,
   "id": "f08c5e9e-9e60-4b55-9a4b-6ae671ccd23a",
   "metadata": {},
   "outputs": [
    {
     "name": "stdout",
     "output_type": "stream",
     "text": [
      "(1, 'Welcome', 2, 'Hope')\n"
     ]
    }
   ],
   "source": [
    "Tuple = (1, 'Welcome', 2, 'Hope')\n",
    "print(Tuple)"
   ]
  },
  {
   "cell_type": "code",
   "execution_count": 7,
   "id": "4e33ddf7-667e-4c42-a642-32ce3502af29",
   "metadata": {},
   "outputs": [
    {
     "name": "stdout",
     "output_type": "stream",
     "text": [
      "((0, 1, 2, 3), ('python', 'HOPE'))\n"
     ]
    }
   ],
   "source": [
    "Tuple1 = (0, 1, 2, 3)\n",
    "Tuple2 = ('python', 'HOPE')\n",
    "Tuple3 = (Tuple1, Tuple2)\n",
    "print(Tuple3)"
   ]
  },
  {
   "cell_type": "code",
   "execution_count": 22,
   "id": "d9a52b8c-4af0-4490-9514-a2a32a972050",
   "metadata": {},
   "outputs": [
    {
     "name": "stdout",
     "output_type": "stream",
     "text": [
      "(20,10,16,19,25,1,276,188)\n",
      "19 is odd\n",
      "25 is odd\n",
      "1 is odd\n"
     ]
    }
   ],
   "source": [
    "num=[20,10,16,19,25,1,276,188]\n",
    "print(\"(20,10,16,19,25,1,276,188)\")\n",
    "for i in num:\n",
    " if i % 2 == 1:\n",
    "     print(i,\"is odd\")"
   ]
  },
  {
   "cell_type": "code",
   "execution_count": 20,
   "id": "d21fa2ef-3eca-44f8-9894-af32f64e4069",
   "metadata": {},
   "outputs": [
    {
     "name": "stdout",
     "output_type": "stream",
     "text": [
      "(20,10,16,19,25,1,276,188)\n",
      "20 is odd\n",
      "10 is odd\n",
      "16 is odd\n",
      "276 is odd\n",
      "188 is odd\n"
     ]
    }
   ],
   "source": [
    "num=[20,10,16,19,25,1,276,188]\n",
    "print(\"(20,10,16,19,25,1,276,188)\")\n",
    "for i in num:\n",
    " if i % 2 == 0:\n",
    "     print(i,\"is odd\")"
   ]
  },
  {
   "cell_type": "code",
   "execution_count": null,
   "id": "1c1ae52a-b07f-4e16-803e-1d65db6cd205",
   "metadata": {},
   "outputs": [],
   "source": []
  }
 ],
 "metadata": {
  "kernelspec": {
   "display_name": "Python [conda env:base] *",
   "language": "python",
   "name": "conda-base-py"
  },
  "language_info": {
   "codemirror_mode": {
    "name": "ipython",
    "version": 3
   },
   "file_extension": ".py",
   "mimetype": "text/x-python",
   "name": "python",
   "nbconvert_exporter": "python",
   "pygments_lexer": "ipython3",
   "version": "3.13.5"
  }
 },
 "nbformat": 4,
 "nbformat_minor": 5
}
