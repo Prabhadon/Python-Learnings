{
 "cells": [
  {
   "cell_type": "code",
   "execution_count": 1,
   "id": "e1d7c854-7db6-4cdf-a198-b2e262391cbf",
   "metadata": {},
   "outputs": [
    {
     "name": "stdout",
     "output_type": "stream",
     "text": [
      "HOPE AI\n"
     ]
    }
   ],
   "source": [
    "print(\"HOPE AI\")"
   ]
  },
  {
   "cell_type": "code",
   "execution_count": 2,
   "id": "d1f28f31-683a-40e2-80b7-98f86751fc52",
   "metadata": {},
   "outputs": [
    {
     "name": "stdin",
     "output_type": "stream",
     "text": [
      "Enter your institute name? :  HOPE AI\n"
     ]
    }
   ],
   "source": [
    "name = input('Enter your institute name? : ')"
   ]
  },
  {
   "cell_type": "code",
   "execution_count": 4,
   "id": "4bfe5715-8664-40e8-ab74-ec6fe9f43e0d",
   "metadata": {},
   "outputs": [
    {
     "name": "stdin",
     "output_type": "stream",
     "text": [
      "Enter your name:  Raj\n",
      "Enter your age:  15\n",
      "Enter your school name:  Guru school\n",
      "Enter your drgree:  B.E CSE\n"
     ]
    }
   ],
   "source": [
    "name = input('Enter your name: ')\n",
    "age = input('Enter your age: ')\n",
    "school = input('Enter your school name: ')\n",
    "degree = input('Enter your drgree: ')"
   ]
  },
  {
   "cell_type": "code",
   "execution_count": 5,
   "id": "90dd7835-4b27-4ae7-8cb2-9bb67730b5fb",
   "metadata": {},
   "outputs": [
    {
     "name": "stdin",
     "output_type": "stream",
     "text": [
      "a=  43\n",
      "b=  34\n"
     ]
    },
    {
     "name": "stdout",
     "output_type": "stream",
     "text": [
      "add = 77\n"
     ]
    }
   ],
   "source": [
    "num1 = int(input(\"a= \"))\n",
    "num2 = int(input(\"b= \"))\n",
    "print(\"add =\",num1+num2)"
   ]
  },
  {
   "cell_type": "code",
   "execution_count": 6,
   "id": "2cd3a7ba-f8a5-43e6-8082-5055b7e10950",
   "metadata": {},
   "outputs": [
    {
     "name": "stdin",
     "output_type": "stream",
     "text": [
      "a=  43\n",
      "b=  34\n"
     ]
    },
    {
     "name": "stdout",
     "output_type": "stream",
     "text": [
      "Sub = 9\n"
     ]
    }
   ],
   "source": [
    "num1 = int(input(\"a= \"))\n",
    "num2 = int(input(\"b= \"))\n",
    "print(\"Sub =\",num1-num2)"
   ]
  },
  {
   "cell_type": "code",
   "execution_count": 7,
   "id": "60c8b820-b256-4c59-9157-5e455811ceba",
   "metadata": {},
   "outputs": [
    {
     "name": "stdin",
     "output_type": "stream",
     "text": [
      "a=  63\n",
      "b=  97\n"
     ]
    },
    {
     "name": "stdout",
     "output_type": "stream",
     "text": [
      "Mul = 6111\n"
     ]
    }
   ],
   "source": [
    "num1 = int(input(\"a= \"))\n",
    "num2 = int(input(\"b= \"))\n",
    "print(\"Mul =\",num1*num2)"
   ]
  },
  {
   "cell_type": "code",
   "execution_count": 8,
   "id": "a89bae2e-2b43-4039-aa36-bf64a3418806",
   "metadata": {},
   "outputs": [
    {
     "name": "stdin",
     "output_type": "stream",
     "text": [
      "a=  76\n",
      "b=  31\n"
     ]
    },
    {
     "name": "stdout",
     "output_type": "stream",
     "text": [
      "Float Div = 2.4516129032258065\n"
     ]
    }
   ],
   "source": [
    "num1 = int(input(\"a= \"))\n",
    "num2 = int(input(\"b= \"))\n",
    "print(\"Float Div =\",num1/num2)"
   ]
  },
  {
   "cell_type": "code",
   "execution_count": 9,
   "id": "b1569530-dd9b-4568-96fd-60cb464a3dda",
   "metadata": {},
   "outputs": [
    {
     "name": "stdin",
     "output_type": "stream",
     "text": [
      "a=  76\n",
      "b=  31\n"
     ]
    },
    {
     "name": "stdout",
     "output_type": "stream",
     "text": [
      "Floor Div = 2\n"
     ]
    }
   ],
   "source": [
    "num1 = int(input(\"a= \"))\n",
    "num2 = int(input(\"b= \"))\n",
    "print(\"Floor Div =\",num1 // num2)"
   ]
  },
  {
   "cell_type": "code",
   "execution_count": 10,
   "id": "3fbc597b-9338-41c9-8413-d1a569cc588e",
   "metadata": {},
   "outputs": [
    {
     "name": "stdin",
     "output_type": "stream",
     "text": [
      "a=  76\n",
      "b=  31\n"
     ]
    },
    {
     "name": "stdout",
     "output_type": "stream",
     "text": [
      "Modulo = 14\n"
     ]
    }
   ],
   "source": [
    "num1 = int(input(\"a= \"))\n",
    "num2 = int(input(\"b= \"))\n",
    "print(\"Modulo =\",num1 % num2)"
   ]
  },
  {
   "cell_type": "code",
   "execution_count": 11,
   "id": "0aea9fc2-b886-4362-ba12-6e4ec6d62431",
   "metadata": {},
   "outputs": [
    {
     "name": "stdin",
     "output_type": "stream",
     "text": [
      "a=  4\n",
      "b=  4\n"
     ]
    },
    {
     "name": "stdout",
     "output_type": "stream",
     "text": [
      "Power = 256\n"
     ]
    }
   ],
   "source": [
    "num1 = int(input(\"a= \"))\n",
    "num2 = int(input(\"b= \"))\n",
    "print(\"Power =\",num1 ** num2)"
   ]
  },
  {
   "cell_type": "code",
   "execution_count": null,
   "id": "6257b36d-3287-4ac1-b574-146771cfbaa5",
   "metadata": {},
   "outputs": [],
   "source": []
  }
 ],
 "metadata": {
  "kernelspec": {
   "display_name": "Python [conda env:base] *",
   "language": "python",
   "name": "conda-base-py"
  },
  "language_info": {
   "codemirror_mode": {
    "name": "ipython",
    "version": 3
   },
   "file_extension": ".py",
   "mimetype": "text/x-python",
   "name": "python",
   "nbconvert_exporter": "python",
   "pygments_lexer": "ipython3",
   "version": "3.13.5"
  }
 },
 "nbformat": 4,
 "nbformat_minor": 5
}
