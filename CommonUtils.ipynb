{
 "cells": [
  {
   "cell_type": "code",
   "execution_count": 5,
   "id": "d7c09f88-d5bf-45e3-bfad-1265045f6f0f",
   "metadata": {},
   "outputs": [],
   "source": [
    "from CommonUtils import CommonUtils"
   ]
  },
  {
   "cell_type": "code",
   "execution_count": 6,
   "id": "ce63178f-91df-48c9-a024-3d651a34fc16",
   "metadata": {},
   "outputs": [
    {
     "name": "stdout",
     "output_type": "stream",
     "text": [
      "Sub-fields in AI are:\n",
      "Machine Learning\n",
      "Neural Networks\n",
      "Vision\n",
      "Robotics\n",
      "Speech Processing\n",
      "Natural Language Processing\n"
     ]
    }
   ],
   "source": [
    "CommonUtils.Subfields()"
   ]
  },
  {
   "cell_type": "code",
   "execution_count": 7,
   "id": "cca4b413-65e9-4027-a065-b523bf72b3f2",
   "metadata": {},
   "outputs": [
    {
     "name": "stdin",
     "output_type": "stream",
     "text": [
      "Enter a number:  87\n"
     ]
    },
    {
     "name": "stdout",
     "output_type": "stream",
     "text": [
      "87 is Odd number\n"
     ]
    }
   ],
   "source": [
    "CommonUtils.OddEven()"
   ]
  },
  {
   "cell_type": "code",
   "execution_count": 8,
   "id": "4f2d364c-7628-4167-b642-d6de0f0ec8c8",
   "metadata": {},
   "outputs": [
    {
     "name": "stdin",
     "output_type": "stream",
     "text": [
      "Your Gender: Male\n",
      "Your Age: 32\n"
     ]
    },
    {
     "name": "stdout",
     "output_type": "stream",
     "text": [
      "ELIGIBLE\n"
     ]
    }
   ],
   "source": [
    "CommonUtils.Elegible()"
   ]
  },
  {
   "cell_type": "code",
   "execution_count": 9,
   "id": "aa5ab8d7-6eef-4a10-86ae-04d94d9b53e1",
   "metadata": {},
   "outputs": [
    {
     "name": "stdin",
     "output_type": "stream",
     "text": [
      "Subject1=  64\n",
      "Subject2=  464\n",
      "Subject3=  65\n",
      "Subject4=  643\n",
      "Subject5=  75\n"
     ]
    },
    {
     "name": "stdout",
     "output_type": "stream",
     "text": [
      "Total :  1311\n",
      "Percentage :  262.2\n"
     ]
    }
   ],
   "source": [
    "CommonUtils.percentage()"
   ]
  },
  {
   "cell_type": "code",
   "execution_count": 10,
   "id": "c511b8e6-1644-4141-9981-1bd218bd42b6",
   "metadata": {},
   "outputs": [
    {
     "name": "stdin",
     "output_type": "stream",
     "text": [
      "Height: 4\n",
      "Breadth: 6\n"
     ]
    },
    {
     "name": "stdout",
     "output_type": "stream",
     "text": [
      "Area formula: (Height*Breadth)/2\n",
      "Area of Triangle:  12.0\n"
     ]
    },
    {
     "name": "stdin",
     "output_type": "stream",
     "text": [
      "Height1: 3\n",
      "Height2: 6\n",
      "Breadth: 7\n"
     ]
    },
    {
     "name": "stdout",
     "output_type": "stream",
     "text": [
      "Perimeter formula: Height1+Height2+Breadth\n",
      "Perimeter of Triangle:  16\n"
     ]
    }
   ],
   "source": [
    "CommonUtils.triangle()"
   ]
  },
  {
   "cell_type": "code",
   "execution_count": null,
   "id": "762ac3c7-de19-4e9a-b823-cdbd75bd38f1",
   "metadata": {},
   "outputs": [],
   "source": []
  }
 ],
 "metadata": {
  "kernelspec": {
   "display_name": "Python [conda env:base] *",
   "language": "python",
   "name": "conda-base-py"
  },
  "language_info": {
   "codemirror_mode": {
    "name": "ipython",
    "version": 3
   },
   "file_extension": ".py",
   "mimetype": "text/x-python",
   "name": "python",
   "nbconvert_exporter": "python",
   "pygments_lexer": "ipython3",
   "version": "3.13.5"
  }
 },
 "nbformat": 4,
 "nbformat_minor": 5
}
