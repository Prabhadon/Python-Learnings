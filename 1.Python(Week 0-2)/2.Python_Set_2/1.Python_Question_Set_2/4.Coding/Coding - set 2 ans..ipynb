{
 "cells": [
  {
   "cell_type": "code",
   "execution_count": 2,
   "id": "aba1475d",
   "metadata": {},
   "outputs": [
    {
     "name": "stdin",
     "output_type": "stream",
     "text": [
      "Enter a string:  prabha\n"
     ]
    },
    {
     "name": "stdout",
     "output_type": "stream",
     "text": [
      "Reversed string: ahbarp\n"
     ]
    }
   ],
   "source": [
    "#1.Write a Python program to find the reverse of a string. Expected Output (for input \"hello\"):\n",
    "#olleh\n",
    "s = input(\"Enter a string: \")\n",
    "reversed_s = \"\"\n",
    "for i in range(len(s)):\n",
    "    reversed_s = s[i] + reversed_s\n",
    "    \n",
    "    \n",
    "print(\"Reversed string:\", reversed_s)\n"
   ]
  },
  {
   "cell_type": "code",
   "execution_count": 3,
   "id": "5b1ec143",
   "metadata": {},
   "outputs": [
    {
     "name": "stdin",
     "output_type": "stream",
     "text": [
      "How many Fibonacci numbers do you want?  5\n"
     ]
    },
    {
     "name": "stdout",
     "output_type": "stream",
     "text": [
      "0 1 1 2 3 "
     ]
    }
   ],
   "source": [
    "#2.Write a Python program to generate the Fibonacci sequence up to 10 terms.\n",
    "#Expected Output:\n",
    "#0 1 1 2 3 5 8 13 21 34\n",
    "\n",
    "n = int(input(\"How many Fibonacci numbers do you want? \"))\n",
    "\n",
    "first = 0\n",
    "second = 1\n",
    "\n",
    "print(first, second, end=\" \")\n",
    "\n",
    "count = 2\n",
    "\n",
    "while count < n:\n",
    "    next_num = first + second\n",
    "    print(next_num, end=\" \")\n",
    "    first = second\n",
    "    second = next_num\n",
    "    count += 1"
   ]
  },
  {
   "cell_type": "code",
   "execution_count": 4,
   "id": "c656f04a",
   "metadata": {},
   "outputs": [
    {
     "name": "stdin",
     "output_type": "stream",
     "text": [
      "Enter a string:  madam\n"
     ]
    },
    {
     "name": "stdout",
     "output_type": "stream",
     "text": [
      "madam is a palindrome\n"
     ]
    }
   ],
   "source": [
    "#3.Write a Python function to check if a given string is a palindrome.\n",
    "#Expected Output (for input \"madam\"):\n",
    "#madam is a palindrome\n",
    "s = input(\"Enter a string: \")\n",
    "reversed_s = \"\"\n",
    "for i in range(len(s)):\n",
    "    reversed_s = s[i] + reversed_s\n",
    "\n",
    "if s == reversed_s:\n",
    "    print(s, \"is a palindrome\")\n",
    "else:\n",
    "    print(s, \"is not a palindrome\")\n"
   ]
  },
  {
   "cell_type": "code",
   "execution_count": 6,
   "id": "cd7b0a78",
   "metadata": {},
   "outputs": [
    {
     "name": "stdin",
     "output_type": "stream",
     "text": [
      "Enter a string:  prabha\n"
     ]
    },
    {
     "name": "stdout",
     "output_type": "stream",
     "text": [
      "Number of vowels: 2\n"
     ]
    }
   ],
   "source": [
    "#4.Write a Python program to count the number of vowels in a given string. \n",
    "#Expected Output (for input \"education\"):\n",
    "\n",
    "#Number of vowels: 5\n",
    "    \n",
    "text = input(\"Enter a string: \")\n",
    "text_lower = text.lower()\n",
    "vowels = \"aeiou\"\n",
    "vowel_count = 0\n",
    "\n",
    "\n",
    "for char in text:\n",
    "    if char in vowels:\n",
    "        vowel_count += 1\n",
    "\n",
    "\n",
    "print(\"Number of vowels:\", vowel_count)\n",
    "\n",
    "\n",
    "\n"
   ]
  },
  {
   "cell_type": "code",
   "execution_count": 8,
   "id": "bdbb9b19",
   "metadata": {},
   "outputs": [
    {
     "name": "stdout",
     "output_type": "stream",
     "text": [
      "List without duplicates: [1, 2, 3, 4, 5]\n"
     ]
    }
   ],
   "source": [
    "#5.Write a Python program to remove duplicates from a list.\n",
    "#Expected Output (for input [1, 2, 2, 3, 4, 4, 5]):\n",
    "# [1, 2, 3, 4, 5]\n",
    "\n",
    "lst = [1, 2, 2, 3, 4, 4, 5]\n",
    "\n",
    "unique_lst = list(set(lst))\n",
    "\n",
    "print(\"List without duplicates:\", unique_lst)\n"
   ]
  },
  {
   "cell_type": "code",
   "execution_count": null,
   "id": "0b2810a2-f0c6-44a5-b471-e585fde309b9",
   "metadata": {},
   "outputs": [],
   "source": []
  }
 ],
 "metadata": {
  "kernelspec": {
   "display_name": "Python [conda env:base] *",
   "language": "python",
   "name": "conda-base-py"
  },
  "language_info": {
   "codemirror_mode": {
    "name": "ipython",
    "version": 3
   },
   "file_extension": ".py",
   "mimetype": "text/x-python",
   "name": "python",
   "nbconvert_exporter": "python",
   "pygments_lexer": "ipython3",
   "version": "3.13.5"
  }
 },
 "nbformat": 4,
 "nbformat_minor": 5
}
