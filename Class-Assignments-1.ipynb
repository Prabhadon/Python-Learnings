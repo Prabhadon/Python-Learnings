{
 "cells": [
  {
   "cell_type": "code",
   "execution_count": 2,
   "id": "882ae5d1-18be-4097-979a-b1b01c96d06e",
   "metadata": {},
   "outputs": [],
   "source": [
    "class SubfieldsInAI():\n",
    "    def Subfields():\n",
    "        print(\"Sub-fields in AI are:\")\n",
    "        List=['Machine Learning', 'Neural Networks', 'Vision', 'Robotics', 'Speech Processing', 'Natural Language Processing']\n",
    "        for temp in List:\n",
    "            print(temp)"
   ]
  },
  {
   "cell_type": "code",
   "execution_count": 3,
   "id": "51c70b61-3d1f-4643-b7d3-ed547091ca71",
   "metadata": {},
   "outputs": [
    {
     "name": "stdout",
     "output_type": "stream",
     "text": [
      "Sub-fields in AI are:\n",
      "Machine Learning\n",
      "Neural Networks\n",
      "Vision\n",
      "Robotics\n",
      "Speech Processing\n",
      "Natural Language Processing\n"
     ]
    }
   ],
   "source": [
    "SubfieldsInAI.Subfields()"
   ]
  },
  {
   "cell_type": "code",
   "execution_count": 4,
   "id": "cda439f5-9faf-408b-a919-348a6d10ea3a",
   "metadata": {},
   "outputs": [],
   "source": [
    "class OddEven():\n",
    "    def OddEven():\n",
    "        num = int(input(\"Enter a number: \"))\n",
    "        if (num % 2) == 0:\n",
    "            print(\"{0} is Even number\".format(num))\n",
    "        else:\n",
    "            print(\"{0} is Odd number\".format(num))"
   ]
  },
  {
   "cell_type": "code",
   "execution_count": 5,
   "id": "626e0fac-92af-41c6-948e-504e8ab1adaf",
   "metadata": {},
   "outputs": [
    {
     "name": "stdin",
     "output_type": "stream",
     "text": [
      "Enter a number:  66\n"
     ]
    },
    {
     "name": "stdout",
     "output_type": "stream",
     "text": [
      "66 is Even number\n"
     ]
    }
   ],
   "source": [
    "OddEven.OddEven()"
   ]
  },
  {
   "cell_type": "code",
   "execution_count": 2,
   "id": "f724fab2-49e0-4b91-a202-a21b1305e47e",
   "metadata": {},
   "outputs": [],
   "source": [
    "class ElegiblityForMarriage():\n",
    "    def Elegible():\n",
    "        gender=input(\"Your Gender:\")\n",
    "        age=int(input(\"Your Age:\"))\n",
    "        if(gender=='Male'):\n",
    "            if(age >=21):\n",
    "                print('ELIGIBLE')\n",
    "            else:\n",
    "                print('NOT ELIGIBLE')\n",
    "        elif(gender=='Female'):\n",
    "            if(age >18):\n",
    "                print('ELIGIBLE')\n",
    "            else:\n",
    "                print('NOT ELIGIBLE')\n",
    "        else:\n",
    "            print('INVALID INPUT DATA')"
   ]
  },
  {
   "cell_type": "code",
   "execution_count": 3,
   "id": "9f5c4623-d240-42c0-af4e-06b7ced8c7f1",
   "metadata": {},
   "outputs": [
    {
     "name": "stdin",
     "output_type": "stream",
     "text": [
      "Your Gender: Male\n",
      "Your Age: 32\n"
     ]
    },
    {
     "name": "stdout",
     "output_type": "stream",
     "text": [
      "ELIGIBLE\n"
     ]
    }
   ],
   "source": [
    "ElegiblityForMarriage.Elegible()"
   ]
  },
  {
   "cell_type": "code",
   "execution_count": 5,
   "id": "e488594e-8d52-480f-8400-f4fe42a9d40b",
   "metadata": {},
   "outputs": [],
   "source": [
    "class FindPercent():\n",
    "    def percentage():\n",
    "        m1=int(input(\"Subject1= \"))\n",
    "        m2=int(input(\"Subject2= \"))\n",
    "        m3=int(input(\"Subject3= \"))\n",
    "        m4=int(input(\"Subject4= \"))\n",
    "        m5=int(input(\"Subject5= \"))\n",
    "        Total = m1+m2+m3+m4+m5\n",
    "        print(\"Total : \",m1+m2+m3+m4+m5)\n",
    "        Percent = (Total / 500) * 100\n",
    "        print(\"Percentage : \",Percent)"
   ]
  },
  {
   "cell_type": "code",
   "execution_count": 6,
   "id": "f3cc4737-c928-4744-8019-49c92be58dcd",
   "metadata": {},
   "outputs": [
    {
     "name": "stdin",
     "output_type": "stream",
     "text": [
      "Subject1=  68\n",
      "Subject2=  87\n",
      "Subject3=  99\n",
      "Subject4=  45\n",
      "Subject5=  75\n"
     ]
    },
    {
     "name": "stdout",
     "output_type": "stream",
     "text": [
      "Total :  374\n",
      "Percentage :  74.8\n"
     ]
    }
   ],
   "source": [
    "FindPercent.percentage()"
   ]
  },
  {
   "cell_type": "code",
   "execution_count": 7,
   "id": "3fac16d8-ea97-4db0-a060-9645f8b04749",
   "metadata": {},
   "outputs": [],
   "source": [
    "class triangle():\n",
    "    def triangle():\n",
    "        Height=int(input(\"Height:\"))\n",
    "        breadth=int(input(\"Breadth:\"))\n",
    "        print(\"Area formula: (Height*Breadth)/2\")\n",
    "        print(\"Area of Triangle: \",(Height*breadth)/2)\n",
    "        Height1=int(input(\"Height1:\"))\n",
    "        Height2=int(input(\"Height2:\"))\n",
    "        breadth=int(input(\"Breadth:\"))\n",
    "        print(\"Perimeter formula: Height1+Height2+Breadth\")\n",
    "        print(\"Perimeter of Triangle: \",Height1+Height2+breadth)"
   ]
  },
  {
   "cell_type": "code",
   "execution_count": 8,
   "id": "f7e3e1da-4133-4fca-9829-5c4a450fbfac",
   "metadata": {},
   "outputs": [
    {
     "name": "stdin",
     "output_type": "stream",
     "text": [
      "Height: 4\n",
      "Breadth: 6\n"
     ]
    },
    {
     "name": "stdout",
     "output_type": "stream",
     "text": [
      "Area formula: (Height*Breadth)/2\n",
      "Area of Triangle:  12.0\n"
     ]
    },
    {
     "name": "stdin",
     "output_type": "stream",
     "text": [
      "Height1: 2\n",
      "Height2: 6\n",
      "Breadth: 7\n"
     ]
    },
    {
     "name": "stdout",
     "output_type": "stream",
     "text": [
      "Perimeter formula: Height1+Height2+Breadth\n",
      "Perimeter of Triangle:  15\n"
     ]
    }
   ],
   "source": [
    "triangle.triangle()"
   ]
  },
  {
   "cell_type": "code",
   "execution_count": null,
   "id": "13239dcd-96b7-41c8-8ff4-3890acc78e05",
   "metadata": {},
   "outputs": [],
   "source": []
  }
 ],
 "metadata": {
  "kernelspec": {
   "display_name": "Python [conda env:base] *",
   "language": "python",
   "name": "conda-base-py"
  },
  "language_info": {
   "codemirror_mode": {
    "name": "ipython",
    "version": 3
   },
   "file_extension": ".py",
   "mimetype": "text/x-python",
   "name": "python",
   "nbconvert_exporter": "python",
   "pygments_lexer": "ipython3",
   "version": "3.13.5"
  }
 },
 "nbformat": 4,
 "nbformat_minor": 5
}
